{
 "cells": [
  {
   "cell_type": "markdown",
   "metadata": {},
   "source": [
    "Hi, here's your problem today. This problem was recently asked by Uber:\n",
    "\n",
    "Given a list of numbers, find if there exists a pythagorean triplet in that list. A pythagorean triplet is 3 variables a, b, c where a^2 + b^2 = c^2\n",
    "\n",
    "Example:\n",
    "Input: [3, 5, 12, 5, 13]\n",
    "Output: True\n",
    "Here, 5^2 + 12^2 = 13^2.\n",
    "\n",
    "def findPythagoreanTriplets(nums):\n",
    "  ### Fill this in.\n",
    "\n",
    "print findPythagoreanTriplets([3, 12, 5, 13])\n",
    "### True"
   ]
  },
  {
   "cell_type": "code",
   "execution_count": 10,
   "metadata": {},
   "outputs": [],
   "source": [
    "import math\n",
    "ar = [3, 5, 12, 5, 13]\n",
    "\n",
    "def findPythagoreanTriplets(nums):\n",
    "        j = []    \n",
    "        for i in nums:\n",
    "            j.append(math.pow(i,2))\n",
    "        for i in j:\n",
    "            "
   ]
  },
  {
   "cell_type": "code",
   "execution_count": 11,
   "metadata": {},
   "outputs": [
    {
     "data": {
      "text/plain": [
       "[9.0, 25.0, 144.0, 25.0, 169.0]"
      ]
     },
     "execution_count": 11,
     "metadata": {},
     "output_type": "execute_result"
    }
   ],
   "source": [
    "findPythagoreanTriplets(ar)"
   ]
  },
  {
   "cell_type": "code",
   "execution_count": null,
   "metadata": {},
   "outputs": [],
   "source": []
  },
  {
   "cell_type": "code",
   "execution_count": null,
   "metadata": {},
   "outputs": [],
   "source": []
  }
 ],
 "metadata": {
  "kernelspec": {
   "display_name": "Python 3",
   "language": "python",
   "name": "python3"
  },
  "language_info": {
   "codemirror_mode": {
    "name": "ipython",
    "version": 3
   },
   "file_extension": ".py",
   "mimetype": "text/x-python",
   "name": "python",
   "nbconvert_exporter": "python",
   "pygments_lexer": "ipython3",
   "version": "3.7.3"
  }
 },
 "nbformat": 4,
 "nbformat_minor": 2
}
